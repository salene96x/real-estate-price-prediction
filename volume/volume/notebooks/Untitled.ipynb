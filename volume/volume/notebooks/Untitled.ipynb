{
 "cells": [
  {
   "cell_type": "code",
   "execution_count": 1,
   "id": "e91e7088-9e7b-4db2-a15d-21932289ccfa",
   "metadata": {},
   "outputs": [],
   "source": [
    "import dtale\n",
    "from dtale.app import build_app\n",
    "from dtale.views import startup"
   ]
  },
  {
   "cell_type": "code",
   "execution_count": null,
   "id": "8bf376a8-520d-4d10-b9c0-eee0941a08b5",
   "metadata": {},
   "outputs": [],
   "source": []
  }
 ],
 "metadata": {
  "kernelspec": {
   "display_name": "Python 3",
   "language": "python",
   "name": "python3"
  },
  "language_info": {
   "codemirror_mode": {
    "name": "ipython",
    "version": 3
   },
   "file_extension": ".py",
   "mimetype": "text/x-python",
   "name": "python",
   "nbconvert_exporter": "python",
   "pygments_lexer": "ipython3",
   "version": "3.9.13"
  }
 },
 "nbformat": 4,
 "nbformat_minor": 5
}
