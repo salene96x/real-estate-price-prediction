{
 "cells": [
  {
   "cell_type": "code",
   "execution_count": 1,
   "id": "93a69e1a-ec58-4720-bf1d-0f253b949294",
   "metadata": {},
   "outputs": [],
   "source": [
    "%load_ext autoreload\n",
    "%autoreload 2\n",
    "#%load /usr/src/volume/volume/datasets/"
   ]
  },
  {
   "cell_type": "code",
   "execution_count": 2,
   "id": "95305171-0aa9-473e-a571-10cf45fbf150",
   "metadata": {},
   "outputs": [],
   "source": [
    "import sys\n",
    "sys.path.insert(0, '/usr/src/volume/volume/scripts')"
   ]
  },
  {
   "cell_type": "code",
   "execution_count": 6,
   "id": "b3e32303-15e3-402e-89f3-e77f998ccd22",
   "metadata": {},
   "outputs": [],
   "source": [
    "from model_comparison import ModelComparison\n",
    "import mlflow\n",
    "import mlflow.sklearn"
   ]
  },
  {
   "cell_type": "code",
   "execution_count": 4,
   "id": "05ec79f5-9d4d-4f77-ae69-3d6971c0204c",
   "metadata": {},
   "outputs": [
    {
     "name": "stderr",
     "output_type": "stream",
     "text": [
      "/opt/conda/lib/python3.9/site-packages/sklearn/utils/validation.py:63: DataConversionWarning: A column-vector y was passed when a 1d array was expected. Please change the shape of y to (n_samples, ), for example using ravel().\n",
      "  return f(*args, **kwargs)\n",
      "/opt/conda/lib/python3.9/site-packages/sklearn/utils/validation.py:63: DataConversionWarning: A column-vector y was passed when a 1d array was expected. Please change the shape of y to (n_samples, ), for example using ravel().\n",
      "  return f(*args, **kwargs)\n",
      "/opt/conda/lib/python3.9/site-packages/sklearn/utils/validation.py:63: DataConversionWarning: A column-vector y was passed when a 1d array was expected. Please change the shape of y to (n_samples, ), for example using ravel().\n",
      "  return f(*args, **kwargs)\n",
      "/opt/conda/lib/python3.9/site-packages/sklearn/utils/validation.py:63: DataConversionWarning: A column-vector y was passed when a 1d array was expected. Please change the shape of y to (n_samples, ), for example using ravel().\n",
      "  return f(*args, **kwargs)\n",
      "/usr/src/volume/volume/scripts/model_comparison.py:166: DataConversionWarning: A column-vector y was passed when a 1d array was expected. Please change the shape of y to (n_samples,), for example using ravel().\n",
      "  model.fit(self.x_train, self.y_train)\n"
     ]
    }
   ],
   "source": [
    "mc = ModelComparison()\n",
    "result, df = mc.run()"
   ]
  },
  {
   "cell_type": "code",
   "execution_count": 5,
   "id": "90128ae3-8e47-4984-aa0b-96a949cab245",
   "metadata": {},
   "outputs": [
    {
     "data": {
      "text/html": [
       "<div>\n",
       "<style scoped>\n",
       "    .dataframe tbody tr th:only-of-type {\n",
       "        vertical-align: middle;\n",
       "    }\n",
       "\n",
       "    .dataframe tbody tr th {\n",
       "        vertical-align: top;\n",
       "    }\n",
       "\n",
       "    .dataframe thead th {\n",
       "        text-align: right;\n",
       "    }\n",
       "</style>\n",
       "<table border=\"1\" class=\"dataframe\">\n",
       "  <thead>\n",
       "    <tr style=\"text-align: right;\">\n",
       "      <th></th>\n",
       "      <th>models</th>\n",
       "      <th>r2</th>\n",
       "      <th>mae</th>\n",
       "      <th>mse</th>\n",
       "    </tr>\n",
       "  </thead>\n",
       "  <tbody>\n",
       "    <tr>\n",
       "      <th>4</th>\n",
       "      <td>GradientBoostingRegressor</td>\n",
       "      <td>0.874001</td>\n",
       "      <td>0.225853</td>\n",
       "      <td>0.131675</td>\n",
       "    </tr>\n",
       "    <tr>\n",
       "      <th>7</th>\n",
       "      <td>RandomForestRegressor</td>\n",
       "      <td>0.836056</td>\n",
       "      <td>0.241266</td>\n",
       "      <td>0.171330</td>\n",
       "    </tr>\n",
       "    <tr>\n",
       "      <th>5</th>\n",
       "      <td>SVR</td>\n",
       "      <td>0.780978</td>\n",
       "      <td>0.264452</td>\n",
       "      <td>0.228889</td>\n",
       "    </tr>\n",
       "    <tr>\n",
       "      <th>0</th>\n",
       "      <td>LinearRegression</td>\n",
       "      <td>0.737788</td>\n",
       "      <td>0.273257</td>\n",
       "      <td>0.274026</td>\n",
       "    </tr>\n",
       "    <tr>\n",
       "      <th>6</th>\n",
       "      <td>KernelRidge</td>\n",
       "      <td>0.737601</td>\n",
       "      <td>0.272969</td>\n",
       "      <td>0.274220</td>\n",
       "    </tr>\n",
       "    <tr>\n",
       "      <th>3</th>\n",
       "      <td>BayesianRidge</td>\n",
       "      <td>0.733773</td>\n",
       "      <td>0.267073</td>\n",
       "      <td>0.278222</td>\n",
       "    </tr>\n",
       "    <tr>\n",
       "      <th>2</th>\n",
       "      <td>SGDRegressor</td>\n",
       "      <td>0.732206</td>\n",
       "      <td>0.275914</td>\n",
       "      <td>0.279859</td>\n",
       "    </tr>\n",
       "    <tr>\n",
       "      <th>1</th>\n",
       "      <td>ElasticNet</td>\n",
       "      <td>0.327014</td>\n",
       "      <td>0.578465</td>\n",
       "      <td>0.703306</td>\n",
       "    </tr>\n",
       "  </tbody>\n",
       "</table>\n",
       "</div>"
      ],
      "text/plain": [
       "                      models        r2       mae       mse\n",
       "4  GradientBoostingRegressor  0.874001  0.225853  0.131675\n",
       "7      RandomForestRegressor  0.836056  0.241266  0.171330\n",
       "5                        SVR  0.780978  0.264452  0.228889\n",
       "0           LinearRegression  0.737788  0.273257  0.274026\n",
       "6                KernelRidge  0.737601  0.272969  0.274220\n",
       "3              BayesianRidge  0.733773  0.267073  0.278222\n",
       "2               SGDRegressor  0.732206  0.275914  0.279859\n",
       "1                 ElasticNet  0.327014  0.578465  0.703306"
      ]
     },
     "execution_count": 5,
     "metadata": {},
     "output_type": "execute_result"
    }
   ],
   "source": [
    "result"
   ]
  },
  {
   "cell_type": "code",
   "execution_count": 7,
   "id": "f35f323a-6c26-4544-b945-60da43aa5bb3",
   "metadata": {},
   "outputs": [],
   "source": [
    "with mlflow.start_run():\n",
    "    pass"
   ]
  },
  {
   "cell_type": "code",
   "execution_count": 9,
   "id": "83388179-afd6-4a91-b9fc-80302c50d42e",
   "metadata": {},
   "outputs": [
    {
     "name": "stdout",
     "output_type": "stream",
     "text": [
      "[2022-08-16 02:32:59 +0000] [67] [INFO] Starting gunicorn 20.1.0\n",
      "[2022-08-16 02:32:59 +0000] [67] [INFO] Listening at: http://127.0.0.1:5000 (67)\n",
      "[2022-08-16 02:32:59 +0000] [67] [INFO] Using worker: sync\n",
      "[2022-08-16 02:32:59 +0000] [68] [INFO] Booting worker with pid: 68\n",
      "^C\n",
      "[2022-08-16 04:12:14 +0000] [67] [INFO] Handling signal: int\n",
      "[2022-08-16 04:12:15 +0000] [68] [INFO] Worker exiting (pid: 68)\n"
     ]
    }
   ],
   "source": [
    "!mlflow ui"
   ]
  },
  {
   "cell_type": "code",
   "execution_count": null,
   "id": "eddb687e-0598-461c-8c77-344e13028f41",
   "metadata": {},
   "outputs": [],
   "source": []
  }
 ],
 "metadata": {
  "kernelspec": {
   "display_name": "Python 3",
   "language": "python",
   "name": "python3"
  },
  "language_info": {
   "codemirror_mode": {
    "name": "ipython",
    "version": 3
   },
   "file_extension": ".py",
   "mimetype": "text/x-python",
   "name": "python",
   "nbconvert_exporter": "python",
   "pygments_lexer": "ipython3",
   "version": "3.9.13"
  }
 },
 "nbformat": 4,
 "nbformat_minor": 5
}
