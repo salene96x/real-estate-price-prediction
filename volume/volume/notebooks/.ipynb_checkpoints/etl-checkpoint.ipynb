{
 "cells": [
  {
   "cell_type": "code",
   "execution_count": 1,
   "id": "b178535a-0f5e-403e-92f8-6307715ce78e",
   "metadata": {},
   "outputs": [],
   "source": [
    "%load_ext autoreload\n",
    "%autoreload 2"
   ]
  },
  {
   "cell_type": "code",
   "execution_count": 2,
   "id": "aefea281-7b18-4d01-9b8a-3a7941c22138",
   "metadata": {},
   "outputs": [],
   "source": [
    "import numpy as np\n",
    "import pandas as pd\n",
    "import sys"
   ]
  },
  {
   "cell_type": "code",
   "execution_count": 3,
   "id": "74358496-55e9-408e-852e-0fe5dae191ff",
   "metadata": {},
   "outputs": [],
   "source": [
    "sys.path.insert(0, '/usr/src/volume/volume/scripts')"
   ]
  },
  {
   "cell_type": "code",
   "execution_count": 4,
   "id": "0b811f3a-6329-44e1-8f49-854e03e04710",
   "metadata": {},
   "outputs": [
    {
     "name": "stderr",
     "output_type": "stream",
     "text": [
      "/opt/conda/lib/python3.9/site-packages/tqdm/auto.py:22: TqdmWarning: IProgress not found. Please update jupyter and ipywidgets. See https://ipywidgets.readthedocs.io/en/stable/user_install.html\n",
      "  from .autonotebook import tqdm as notebook_tqdm\n"
     ]
    }
   ],
   "source": [
    "from qty_checker import QtyChecker\n",
    "from etl import ETL"
   ]
  },
  {
   "cell_type": "code",
   "execution_count": 5,
   "id": "33800406-f8c0-44c2-82d2-f38eff886518",
   "metadata": {},
   "outputs": [],
   "source": [
    "qc_train = QtyChecker('/usr/src/volume/volume/datasets/train.csv', 'train_report')"
   ]
  },
  {
   "cell_type": "code",
   "execution_count": 6,
   "id": "66d1da99-1f34-4a1d-ba28-e8d668223e41",
   "metadata": {},
   "outputs": [
    {
     "name": "stderr",
     "output_type": "stream",
     "text": [
      "Summarize dataset: 100%|██████████| 87/87 [00:00<00:00, 218.45it/s, Completed]                     \n",
      "Generate report structure: 100%|██████████| 1/1 [00:07<00:00,  7.40s/it]\n",
      "Render HTML: 100%|██████████| 1/1 [00:00<00:00,  1.63it/s]\n",
      "/opt/conda/lib/python3.9/site-packages/pandas_profiling/profile_report.py:262: UserWarning: Extension  not supported. For now we assume .html was intended. To remove this warning, please use .html or .json.\n",
      "  warnings.warn(\n",
      "Export report to file: 100%|██████████| 1/1 [00:00<00:00, 17.22it/s]\n"
     ]
    }
   ],
   "source": [
    "pr, df = qc_train.do()"
   ]
  },
  {
   "cell_type": "code",
   "execution_count": 7,
   "id": "4497cc89-78bf-4eb5-920f-f0c5edbda56d",
   "metadata": {},
   "outputs": [],
   "source": [
    "pd.set_option('display.max_rows', 500)"
   ]
  },
  {
   "cell_type": "code",
   "execution_count": 8,
   "id": "3429ee10-e48c-44ad-b452-6cb11b3ea203",
   "metadata": {},
   "outputs": [],
   "source": [
    "etl = ETL('train.csv')\n",
    "df_etl = etl.run()"
   ]
  },
  {
   "cell_type": "code",
   "execution_count": 9,
   "id": "7ae94e62-266c-498f-a298-177cf9da6868",
   "metadata": {},
   "outputs": [
    {
     "name": "stdout",
     "output_type": "stream",
     "text": [
      "<class 'pandas.core.frame.DataFrame'>\n",
      "RangeIndex: 1451 entries, 0 to 1450\n",
      "Data columns (total 81 columns):\n",
      " #   Column         Non-Null Count  Dtype  \n",
      "---  ------         --------------  -----  \n",
      " 0   index          1451 non-null   int64  \n",
      " 1   Id             1451 non-null   int64  \n",
      " 2   MSSubClass     1451 non-null   int64  \n",
      " 3   MSZoning       1451 non-null   int64  \n",
      " 4   LotArea        1451 non-null   int64  \n",
      " 5   Street         1451 non-null   int64  \n",
      " 6   Alley          1451 non-null   int64  \n",
      " 7   LotShape       1451 non-null   int64  \n",
      " 8   LandContour    1451 non-null   int64  \n",
      " 9   Utilities      1451 non-null   int64  \n",
      " 10  LotConfig      1451 non-null   int64  \n",
      " 11  LandSlope      1451 non-null   int64  \n",
      " 12  Neighborhood   1451 non-null   int64  \n",
      " 13  Condition1     1451 non-null   int64  \n",
      " 14  Condition2     1451 non-null   int64  \n",
      " 15  BldgType       1451 non-null   int64  \n",
      " 16  HouseStyle     1451 non-null   int64  \n",
      " 17  OverallQual    1451 non-null   int64  \n",
      " 18  OverallCond    1451 non-null   int64  \n",
      " 19  YearBuilt      1451 non-null   int64  \n",
      " 20  YearRemodAdd   1451 non-null   int64  \n",
      " 21  RoofStyle      1451 non-null   int64  \n",
      " 22  RoofMatl       1451 non-null   int64  \n",
      " 23  Exterior1st    1451 non-null   int64  \n",
      " 24  Exterior2nd    1451 non-null   int64  \n",
      " 25  MasVnrType     1451 non-null   int64  \n",
      " 26  MasVnrArea     1451 non-null   float64\n",
      " 27  ExterQual      1451 non-null   int64  \n",
      " 28  ExterCond      1451 non-null   int64  \n",
      " 29  Foundation     1451 non-null   int64  \n",
      " 30  BsmtQual       1451 non-null   int64  \n",
      " 31  BsmtCond       1451 non-null   int64  \n",
      " 32  BsmtExposure   1451 non-null   int64  \n",
      " 33  BsmtFinType1   1451 non-null   int64  \n",
      " 34  BsmtFinSF1     1451 non-null   int64  \n",
      " 35  BsmtFinType2   1451 non-null   int64  \n",
      " 36  BsmtFinSF2     1451 non-null   int64  \n",
      " 37  BsmtUnfSF      1451 non-null   int64  \n",
      " 38  TotalBsmtSF    1451 non-null   int64  \n",
      " 39  Heating        1451 non-null   int64  \n",
      " 40  HeatingQC      1451 non-null   int64  \n",
      " 41  CentralAir     1451 non-null   object \n",
      " 42  Electrical     1451 non-null   int64  \n",
      " 43  1stFlrSF       1451 non-null   int64  \n",
      " 44  2ndFlrSF       1451 non-null   int64  \n",
      " 45  LowQualFinSF   1451 non-null   int64  \n",
      " 46  GrLivArea      1451 non-null   int64  \n",
      " 47  BsmtFullBath   1451 non-null   int64  \n",
      " 48  BsmtHalfBath   1451 non-null   int64  \n",
      " 49  FullBath       1451 non-null   int64  \n",
      " 50  HalfBath       1451 non-null   int64  \n",
      " 51  BedroomAbvGr   1451 non-null   int64  \n",
      " 52  KitchenAbvGr   1451 non-null   int64  \n",
      " 53  KitchenQual    1451 non-null   int64  \n",
      " 54  TotRmsAbvGrd   1451 non-null   int64  \n",
      " 55  Functional     1451 non-null   int64  \n",
      " 56  Fireplaces     1451 non-null   int64  \n",
      " 57  FireplaceQu    1451 non-null   int64  \n",
      " 58  GarageType     1451 non-null   int64  \n",
      " 59  GarageYrBlt    1451 non-null   object \n",
      " 60  GarageFinish   1451 non-null   int64  \n",
      " 61  GarageCars     1451 non-null   int64  \n",
      " 62  GarageArea     1451 non-null   int64  \n",
      " 63  GarageQual     1451 non-null   int64  \n",
      " 64  GarageCond     1451 non-null   int64  \n",
      " 65  PavedDrive     1451 non-null   object \n",
      " 66  WoodDeckSF     1451 non-null   int64  \n",
      " 67  OpenPorchSF    1451 non-null   int64  \n",
      " 68  EnclosedPorch  1451 non-null   int64  \n",
      " 69  3SsnPorch      1451 non-null   int64  \n",
      " 70  ScreenPorch    1451 non-null   int64  \n",
      " 71  PoolArea       1451 non-null   int64  \n",
      " 72  PoolQC         1451 non-null   int64  \n",
      " 73  Fence          1451 non-null   int64  \n",
      " 74  MiscFeature    1451 non-null   int64  \n",
      " 75  MiscVal        1451 non-null   int64  \n",
      " 76  MoSold         1451 non-null   int64  \n",
      " 77  YrSold         1451 non-null   int64  \n",
      " 78  SaleType       1451 non-null   int64  \n",
      " 79  SaleCondition  1451 non-null   int64  \n",
      " 80  SalePrice      1451 non-null   int64  \n",
      "dtypes: float64(1), int64(77), object(3)\n",
      "memory usage: 918.3+ KB\n"
     ]
    }
   ],
   "source": [
    "df_etl.info()"
   ]
  },
  {
   "cell_type": "code",
   "execution_count": 15,
   "id": "6201f964-e7ad-4c0b-ac1d-fb0213178d4c",
   "metadata": {},
   "outputs": [
    {
     "data": {
      "text/plain": [
       "index            0\n",
       "Id               0\n",
       "MSSubClass       0\n",
       "MSZoning         0\n",
       "LotArea          0\n",
       "Street           0\n",
       "Alley            0\n",
       "LotShape         0\n",
       "LandContour      0\n",
       "Utilities        0\n",
       "LotConfig        0\n",
       "LandSlope        0\n",
       "Neighborhood     0\n",
       "Condition1       0\n",
       "Condition2       0\n",
       "BldgType         0\n",
       "HouseStyle       0\n",
       "OverallQual      0\n",
       "OverallCond      0\n",
       "YearBuilt        0\n",
       "YearRemodAdd     0\n",
       "RoofStyle        0\n",
       "RoofMatl         0\n",
       "Exterior1st      0\n",
       "Exterior2nd      0\n",
       "MasVnrType       0\n",
       "MasVnrArea       0\n",
       "ExterQual        0\n",
       "ExterCond        0\n",
       "Foundation       0\n",
       "BsmtQual         0\n",
       "BsmtCond         0\n",
       "BsmtExposure     0\n",
       "BsmtFinType1     0\n",
       "BsmtFinSF1       0\n",
       "BsmtFinType2     0\n",
       "BsmtFinSF2       0\n",
       "BsmtUnfSF        0\n",
       "TotalBsmtSF      0\n",
       "Heating          0\n",
       "HeatingQC        0\n",
       "CentralAir       0\n",
       "Electrical       0\n",
       "1stFlrSF         0\n",
       "2ndFlrSF         0\n",
       "LowQualFinSF     0\n",
       "GrLivArea        0\n",
       "BsmtFullBath     0\n",
       "BsmtHalfBath     0\n",
       "FullBath         0\n",
       "HalfBath         0\n",
       "BedroomAbvGr     0\n",
       "KitchenAbvGr     0\n",
       "KitchenQual      0\n",
       "TotRmsAbvGrd     0\n",
       "Functional       0\n",
       "Fireplaces       0\n",
       "FireplaceQu      0\n",
       "GarageType       0\n",
       "GarageYrBlt      0\n",
       "GarageFinish     0\n",
       "GarageCars       0\n",
       "GarageArea       0\n",
       "GarageQual       0\n",
       "GarageCond       0\n",
       "PavedDrive       0\n",
       "WoodDeckSF       0\n",
       "OpenPorchSF      0\n",
       "EnclosedPorch    0\n",
       "3SsnPorch        0\n",
       "ScreenPorch      0\n",
       "PoolArea         0\n",
       "PoolQC           0\n",
       "Fence            0\n",
       "MiscFeature      0\n",
       "MiscVal          0\n",
       "MoSold           0\n",
       "YrSold           0\n",
       "SaleType         0\n",
       "SaleCondition    0\n",
       "SalePrice        0\n",
       "dtype: int64"
      ]
     },
     "execution_count": 15,
     "metadata": {},
     "output_type": "execute_result"
    }
   ],
   "source": [
    "df_etl.isna().sum()"
   ]
  },
  {
   "cell_type": "code",
   "execution_count": null,
   "id": "80404054-2308-43f4-b559-f45c2802e1c9",
   "metadata": {},
   "outputs": [],
   "source": []
  }
 ],
 "metadata": {
  "kernelspec": {
   "display_name": "Python 3",
   "language": "python",
   "name": "python3"
  },
  "language_info": {
   "codemirror_mode": {
    "name": "ipython",
    "version": 3
   },
   "file_extension": ".py",
   "mimetype": "text/x-python",
   "name": "python",
   "nbconvert_exporter": "python",
   "pygments_lexer": "ipython3",
   "version": "3.9.13"
  }
 },
 "nbformat": 4,
 "nbformat_minor": 5
}
