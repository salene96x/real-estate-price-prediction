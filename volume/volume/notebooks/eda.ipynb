{
 "cells": [
  {
   "cell_type": "code",
   "execution_count": 1,
   "id": "769adee2-2091-4ca9-a76d-5a575c3db19f",
   "metadata": {},
   "outputs": [],
   "source": [
    "%load_ext autoreload\n",
    "%autoreload 2"
   ]
  },
  {
   "cell_type": "code",
   "execution_count": 2,
   "id": "fbc07453-d23a-4747-8244-239522af0a07",
   "metadata": {},
   "outputs": [],
   "source": [
    "import sys\n",
    "sys.path.insert(0, '/usr/src/volume/volume/scripts')"
   ]
  },
  {
   "cell_type": "code",
   "execution_count": 5,
   "id": "ef04db65-44ff-4e1a-848b-6ebc6ffa87f0",
   "metadata": {},
   "outputs": [],
   "source": [
    "from eda import EDA"
   ]
  },
  {
   "cell_type": "code",
   "execution_count": 9,
   "id": "49fa2da1-72cd-4b7d-9e90-4994f7a86fbe",
   "metadata": {},
   "outputs": [
    {
     "name": "stdout",
     "output_type": "stream",
     "text": [
      "|Transform| => Transforming column: MSZoning\n",
      "|Transform| => Transforming column: Street\n",
      "|Transform| => Transforming column: Alley\n",
      "|Transform| => Transforming column: LotShape\n",
      "|Transform| => Transforming column: LandContour\n",
      "|Transform| => Transforming column: Utilities\n",
      "|Transform| => Transforming column: LotConfig\n",
      "|Transform| => Transforming column: LandSlope\n",
      "|Transform| => Transforming column: Neighborhood\n",
      "|Transform| => Transforming column: Condition1\n",
      "|Transform| => Transforming column: Condition2\n",
      "|Transform| => Transforming column: BldgType\n",
      "|Transform| => Transforming column: HouseStyle\n",
      "|Transform| => Transforming column: RoofStyle\n",
      "|Transform| => Transforming column: RoofMatl\n",
      "|Transform| => Transforming column: Exterior1st\n",
      "|Transform| => Transforming column: Exterior2nd\n",
      "|Transform| => Transforming column: MasVnrType\n",
      "|Transform| => Transforming column: ExterQual\n",
      "|Transform| => Transforming column: ExterCond\n",
      "|Transform| => Transforming column: Foundation\n",
      "|Transform| => Transforming column: BsmtQual\n",
      "|Transform| => Transforming column: BsmtCond\n",
      "|Transform| => Transforming column: BsmtExposure\n",
      "|Transform| => Transforming column: BsmtFinType1\n",
      "|Transform| => Transforming column: BsmtFinType2\n",
      "|Transform| => Transforming column: Heating\n",
      "|Transform| => Transforming column: HeatingQC\n",
      "|Transform| => Transforming column: Electrical\n",
      "|Transform| => Transforming column: KitchenQual\n",
      "|Transform| => Transforming column: Functional\n",
      "|Transform| => Transforming column: FireplaceQu\n",
      "|Transform| => Transforming column: GarageType\n",
      "|Transform| => Transforming column: GarageFinish\n",
      "|Transform| => Transforming column: GarageQual\n",
      "|Transform| => Transforming column: GarageCond\n",
      "|Transform| => Transforming column: PoolQC\n",
      "|Transform| => Transforming column: Fence\n",
      "|Transform| => Transforming column: MiscFeature\n",
      "|Transform| => Transforming column: SaleType\n",
      "|Transform| => Transforming column: SaleCondition\n",
      "|Convert| => Column: index\n",
      "|Convert| => Column: Id\n",
      "|Convert| => Column: MSSubClass\n",
      "|Convert| => Column: MSZoning\n",
      "|Convert| => Column: LotArea\n",
      "|Convert| => Column: Street\n",
      "|Convert| => Column: Alley\n",
      "|Convert| => Column: LotShape\n",
      "|Convert| => Column: LandContour\n",
      "|Convert| => Column: Utilities\n",
      "|Convert| => Column: LotConfig\n",
      "|Convert| => Column: LandSlope\n",
      "|Convert| => Column: Neighborhood\n",
      "|Convert| => Column: Condition1\n",
      "|Convert| => Column: Condition2\n",
      "|Convert| => Column: BldgType\n",
      "|Convert| => Column: HouseStyle\n",
      "|Convert| => Column: OverallQual\n",
      "|Convert| => Column: OverallCond\n",
      "|Convert| => Column: YearBuilt\n",
      "|Convert| => Column: YearRemodAdd\n",
      "|Convert| => Column: RoofStyle\n",
      "|Convert| => Column: RoofMatl\n",
      "|Convert| => Column: Exterior1st\n",
      "|Convert| => Column: Exterior2nd\n",
      "|Convert| => Column: MasVnrType\n",
      "|Convert| => Column: MasVnrArea\n",
      "|Convert| => Column: ExterQual\n",
      "|Convert| => Column: ExterCond\n",
      "|Convert| => Column: Foundation\n",
      "|Convert| => Column: BsmtQual\n",
      "|Convert| => Column: BsmtCond\n",
      "|Convert| => Column: BsmtExposure\n",
      "|Convert| => Column: BsmtFinType1\n",
      "|Convert| => Column: BsmtFinSF1\n",
      "|Convert| => Column: BsmtFinType2\n",
      "|Convert| => Column: BsmtFinSF2\n",
      "|Convert| => Column: BsmtUnfSF\n",
      "|Convert| => Column: TotalBsmtSF\n",
      "|Convert| => Column: Heating\n",
      "|Convert| => Column: HeatingQC\n",
      "|Convert| => Column: CentralAir\n",
      "|Convert| => Column: Electrical\n",
      "|Convert| => Column: 1stFlrSF\n",
      "|Convert| => Column: 2ndFlrSF\n",
      "|Convert| => Column: LowQualFinSF\n",
      "|Convert| => Column: GrLivArea\n",
      "|Convert| => Column: BsmtFullBath\n",
      "|Convert| => Column: BsmtHalfBath\n",
      "|Convert| => Column: FullBath\n",
      "|Convert| => Column: HalfBath\n",
      "|Convert| => Column: BedroomAbvGr\n",
      "|Convert| => Column: KitchenAbvGr\n",
      "|Convert| => Column: KitchenQual\n",
      "|Convert| => Column: TotRmsAbvGrd\n",
      "|Convert| => Column: Functional\n",
      "|Convert| => Column: Fireplaces\n",
      "|Convert| => Column: FireplaceQu\n",
      "|Convert| => Column: GarageType\n",
      "|Convert| => Column: GarageYrBlt\n",
      "|Convert| => Column: GarageFinish\n",
      "|Convert| => Column: GarageCars\n",
      "|Convert| => Column: GarageArea\n",
      "|Convert| => Column: GarageQual\n",
      "|Convert| => Column: GarageCond\n",
      "|Convert| => Column: PavedDrive\n",
      "|Convert| => Column: WoodDeckSF\n",
      "|Convert| => Column: OpenPorchSF\n",
      "|Convert| => Column: EnclosedPorch\n",
      "|Convert| => Column: 3SsnPorch\n",
      "|Convert| => Column: ScreenPorch\n",
      "|Convert| => Column: PoolArea\n",
      "|Convert| => Column: PoolQC\n",
      "|Convert| => Column: Fence\n",
      "|Convert| => Column: MiscFeature\n",
      "|Convert| => Column: MiscVal\n",
      "|Convert| => Column: MoSold\n",
      "|Convert| => Column: YrSold\n",
      "|Convert| => Column: SaleType\n",
      "|Convert| => Column: SaleCondition\n",
      "|Convert| => Column: SalePrice\n"
     ]
    }
   ],
   "source": [
    "eda = EDA('train.csv')"
   ]
  },
  {
   "cell_type": "code",
   "execution_count": 10,
   "id": "14a10b3c-8590-4ca6-8967-761fd0790c4c",
   "metadata": {},
   "outputs": [
    {
     "name": "stderr",
     "output_type": "stream",
     "text": [
      "Summarize dataset: 100%|██████████| 936/936 [01:03<00:00, 14.76it/s, Completed]                           \n",
      "Generate report structure: 100%|██████████| 1/1 [00:12<00:00, 12.17s/it]\n",
      "Render HTML: 100%|██████████| 1/1 [00:10<00:00, 10.65s/it]\n",
      "Export report to file: 100%|██████████| 1/1 [00:00<00:00,  1.26it/s]\n"
     ]
    }
   ],
   "source": [
    "pr = eda.run()"
   ]
  },
  {
   "cell_type": "code",
   "execution_count": null,
   "id": "13954097-863a-4370-89ff-3da184d45213",
   "metadata": {},
   "outputs": [],
   "source": []
  }
 ],
 "metadata": {
  "kernelspec": {
   "display_name": "Python 3",
   "language": "python",
   "name": "python3"
  },
  "language_info": {
   "codemirror_mode": {
    "name": "ipython",
    "version": 3
   },
   "file_extension": ".py",
   "mimetype": "text/x-python",
   "name": "python",
   "nbconvert_exporter": "python",
   "pygments_lexer": "ipython3",
   "version": "3.9.13"
  }
 },
 "nbformat": 4,
 "nbformat_minor": 5
}
